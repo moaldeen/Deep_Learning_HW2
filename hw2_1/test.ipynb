{
 "cells": [
  {
   "cell_type": "code",
   "execution_count": 4,
   "metadata": {},
   "outputs": [],
   "source": [
    "\n",
    "#####################################################################################\n",
    "#############################   DEEP LEARNING HOMEWORK 2 ############################\n",
    "#############################   Mohammed Aldeen          ############################\n",
    "#####################################################################################\n",
    "\n",
    "import sys\n",
    "import torch\n",
    "import json\n",
    "from torch.utils.data import DataLoader\n",
    "from bleu_eval import BLEU\n",
    "import Main\n",
    "\n",
    "import pickle"
   ]
  },
  {
   "cell_type": "code",
   "execution_count": 5,
   "metadata": {},
   "outputs": [],
   "source": [
    "if not torch.cuda.is_available():\n",
    "    modelIP = torch.load('model/model0.h5', map_location=lambda storage, loc: storage)\n",
    "else:\n",
    "    modelIP = torch.load('model/model0.h5')"
   ]
  },
  {
   "cell_type": "code",
   "execution_count": 8,
   "metadata": {},
   "outputs": [],
   "source": [
    "files_dir = 'testing_data/feat'\n",
    "i2w, w2i, dictionary = Main.dictonaryFunc(word_min=5)\n",
    "\n",
    "test_dataset = Main.test_dataloader(files_dir)\n",
    "test_dataloader = Main.DataLoader(dataset=test_dataset, batch_size=1, shuffle=True, num_workers=8)\n",
    "\n",
    "model = modelIP.cuda()\n",
    "\n",
    "ss = Main.test(test_dataloader, model, i2w)\n",
    "\n",
    "with open('test_output.txt', 'w') as f:\n",
    "    for id, s in ss:\n",
    "        f.write('{},{}\\n'.format(id, s))"
   ]
  },
  {
   "cell_type": "code",
   "execution_count": 14,
   "metadata": {},
   "outputs": [
    {
     "name": "stdout",
     "output_type": "stream",
     "text": [
      "Average bleu score is 0.6509245592961819\n"
     ]
    }
   ],
   "source": [
    "# Bleu Eval\n",
    "test = json.load(open('testing_label.json','r'))\n",
    "output = 'test_output.txt'\n",
    "result = {}\n",
    "\n",
    "with open(output,'r') as f:\n",
    "    for line in f:\n",
    "        line = line.rstrip()\n",
    "        comma = line.index(',')\n",
    "        test_id = line[:comma]\n",
    "        caption = line[comma+1:]\n",
    "        result[test_id] = caption\n",
    "\n",
    "        bleu=[]\n",
    "for item in test:\n",
    "    score_per_video = []\n",
    "    captions = [x.rstrip('.') for x in item['caption']]\n",
    "    score_per_video.append(BLEU(result[item['id']],captions,True))\n",
    "    bleu.append(score_per_video[0])\n",
    "average = sum(bleu) / len(bleu)\n",
    "print(\"Average bleu score is \" + str(average))"
   ]
  },
  {
   "cell_type": "code",
   "execution_count": null,
   "metadata": {},
   "outputs": [],
   "source": []
  },
  {
   "cell_type": "code",
   "execution_count": null,
   "metadata": {},
   "outputs": [],
   "source": []
  }
 ],
 "metadata": {
  "kernelspec": {
   "display_name": "Python 3 (ipykernel)",
   "language": "python",
   "name": "python3"
  },
  "language_info": {
   "codemirror_mode": {
    "name": "ipython",
    "version": 3
   },
   "file_extension": ".py",
   "mimetype": "text/x-python",
   "name": "python",
   "nbconvert_exporter": "python",
   "pygments_lexer": "ipython3",
   "version": "3.9.16"
  }
 },
 "nbformat": 4,
 "nbformat_minor": 4
}
